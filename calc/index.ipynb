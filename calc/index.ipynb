{
 "cells": [
  {
   "cell_type": "markdown",
   "metadata": {},
   "source": [
    "## AntiparticleDM - example script\n",
    "\n",
    "A short example which demonstrates how the AntiparticleDM code can be used.\n",
    "In the `scripts` folder, you can also find scripts for scanning over a range of parameter values, which may also be useful."
   ]
  },
  {
   "cell_type": "code",
   "execution_count": 1,
   "metadata": {},
   "outputs": [
    {
     "name": "stdout",
     "output_type": "stream",
     "text": [
      " \n",
      " **********************************\n",
      " *      CalcDiscrimination.py     *\n",
      " **********************************\n",
      " Code for calculating significance of discriminating between Dirac and Majorana DM...\n",
      " Version 1.0.2 - BJK 06/07/2017\n",
      " \n"
     ]
    }
   ],
   "source": [
    "# Load in the module that does the heavy lifting\n",
    "import CalcDiscrimination as CD"
   ]
  },
  {
   "cell_type": "code",
   "execution_count": 2,
   "metadata": {
    "collapsed": true
   },
   "outputs": [],
   "source": [
    "# Pick some parameter values - see the paper for definitions\n",
    "ensemble = \"A\"\n",
    "mDM = 50.0    #DM mass\n",
    "f = -0.995   #Interference parameter\n",
    "r_np = 0.75   #Ratio of neutron to proton couplings"
   ]
  },
  {
   "cell_type": "code",
   "execution_count": 3,
   "metadata": {},
   "outputs": [
    {
     "name": "stdout",
     "output_type": "stream",
     "text": [
      " Loading experiments for ensemble A ...\n",
      " \n",
      " DM mass [GeV]: 50.0\n",
      " lambda [GeV^-2]: [  1.35282138e-08  -1.00954295e-08   0.00000000e+00   1.01334697e-09]\n",
      " f = -0.995\n",
      " c_n/c_p = 0.75\n",
      " \n",
      " Ne(Xenon):  314.80595829 ; sig_p = 1e-46\n",
      " Ne(Argon):  177.115707225 ; sig_p = 1.2373669816e-46\n",
      " Ne(Silicon):  32.4760197221 ; sig_p = 6.63721752583e-46\n",
      " \n",
      " Generating 10 samples...\n",
      "   Sample 1  - Discrimination significance: 5.00935142916 sigma\n",
      "   Sample 2  - Discrimination significance: 4.58410708657 sigma\n",
      "   Sample 3  - Discrimination significance: 3.8925486155 sigma\n",
      "   Sample 4  - Discrimination significance: 4.63984025919 sigma\n",
      "   Sample 5  - Discrimination significance: 5.17557832285 sigma\n",
      "   Sample 6  - Discrimination significance: 4.66555903788 sigma\n",
      "   Sample 7  - Discrimination significance: 5.42110285602 sigma\n",
      "   Sample 8  - Discrimination significance: 4.52742153712 sigma\n",
      "   Sample 9  - Discrimination significance: 5.16371596128 sigma\n",
      "   Sample 10  - Discrimination significance: 4.30115625824 sigma\n",
      " Median significance: 4.65269964853\n"
     ]
    }
   ],
   "source": [
    "# Calculate the discrimination significances for 10 samps\n",
    "# This will probably take about a minute or so depending on the parameters...\n",
    "#CD.CalcDiscrim(\"A\", mDM, f, r_np)\n",
    "CD.CalcDiscrim(ensemble, mDM, f, r_np)"
   ]
  },
  {
   "cell_type": "code",
   "execution_count": null,
   "metadata": {
    "collapsed": true
   },
   "outputs": [],
   "source": []
  }
 ],
 "metadata": {
  "kernelspec": {
   "display_name": "Python 2",
   "language": "python",
   "name": "python2"
  },
  "language_info": {
   "codemirror_mode": {
    "name": "ipython",
    "version": 2
   },
   "file_extension": ".py",
   "mimetype": "text/x-python",
   "name": "python",
   "nbconvert_exporter": "python",
   "pygments_lexer": "ipython2",
   "version": "2.7.12"
  }
 },
 "nbformat": 4,
 "nbformat_minor": 2
}
