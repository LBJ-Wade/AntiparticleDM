{
 "cells": [
  {
   "cell_type": "markdown",
   "metadata": {},
   "source": [
    "## AntiparticleDM - example script\n",
    "\n",
    "A short example which demonstrates how the AntiparticleDM code can be used.\n",
    "In the `calc` folder, you can also find scripts for scanning over a rang of parameter values, which may also be useful."
   ]
  },
  {
   "cell_type": "code",
   "execution_count": 1,
   "metadata": {},
   "outputs": [
    {
     "name": "stdout",
     "output_type": "stream",
     "text": [
      " \n",
      " **********************************\n",
      " *      CalcDiscrimination.py     *\n",
      " **********************************\n",
      " Code for calculating significance of discriminating between Dirac and Majorana DM...\n",
      " Version 1.0 - BJK 23/06/2017\n"
     ]
    }
   ],
   "source": [
    "# Load in the module that does the heavy lifting\n",
    "import CalcDiscrimination as CD"
   ]
  },
  {
   "cell_type": "code",
   "execution_count": 2,
   "metadata": {
    "collapsed": true
   },
   "outputs": [],
   "source": [
    "# Pick some parameter values - see the paper for definitions\n",
    "ensemble = \"A\"\n",
    "mDM = 50.0\n",
    "f = -0.995\n",
    "r_np = 0.72"
   ]
  },
  {
   "cell_type": "code",
   "execution_count": 3,
   "metadata": {},
   "outputs": [
    {
     "name": "stdout",
     "output_type": "stream",
     "text": [
      " Loading experiments for ensemble A ...\n",
      " \n",
      " DM mass [GeV]: 50.0\n",
      " lambda [GeV^-2]: [  1.60837300e-08  -1.15223842e-08   0.00000000e+00   1.15658012e-09]\n",
      " f = -0.995\n",
      " c_n/c_p = 0.72\n",
      " \n",
      " Ne(Xenon):  314.80595829 ; sig_p = 1e-46\n",
      " Ne(Argon):  120.168585435 ; sig_p = 2.51856781377e-46\n",
      " Ne(Silicon):  62.3843517589 ; sig_p = 1.14724034088e-45\n",
      " \n",
      " Generating 10 samples...\n",
      "   Sample 1  - Discrimination significance: 4.31881951746 sigma\n",
      "   Sample 2  - Discrimination significance: 3.07396338566 sigma\n",
      "   Sample 3  - Discrimination significance: 3.8605296299 sigma\n",
      "   Sample 4  - Discrimination significance: 4.42536904312 sigma\n",
      "   Sample 5  - Discrimination significance: 2.24933324498 sigma\n",
      "   Sample 6  - Discrimination significance: 3.30575186383 sigma\n",
      "   Sample 7  - Discrimination significance: 3.69328935014 sigma\n",
      "   Sample 8  - Discrimination significance: 4.26020981356 sigma\n",
      "   Sample 9  - Discrimination significance: 3.43458695176 sigma\n",
      "   Sample 10  - Discrimination significance: 4.24504383386 sigma\n",
      " Median significance: 3.77690949002\n"
     ]
    }
   ],
   "source": [
    "# Calculate the discrimination significances for 10 samps\n",
    "# This will probably take about a minute or so depending on the parameters...\n",
    "CD.CalcDiscrim(ensemble, mDM, f, r_np)"
   ]
  },
  {
   "cell_type": "code",
   "execution_count": 5,
   "metadata": {},
   "outputs": [
    {
     "name": "stdout",
     "output_type": "stream",
     "text": [
      " Loading experiments for ensemble A ...\n",
      " \n",
      " DM mass [GeV]: 50.0\n",
      " lambda [GeV^-2]: [  2.21753827e-08  -1.58390081e-08   0.00000000e+00   1.14631952e-09]\n",
      " f = -0.997391304348\n",
      " c_n/c_p = 0.716129032258\n",
      " \n",
      " Ne(Xenon):  314.80595829 ; sig_p = 1e-46\n",
      " Ne(Argon):  198.151105362 ; sig_p = 4.15297387766e-46\n",
      " Ne(Silicon):  116.814381423 ; sig_p = 2.1482017042e-45\n",
      " \n",
      " Generating 10 samples...\n",
      "   Sample 1  - Discrimination significance: 4.36399291792 sigma\n",
      "   Sample 2  - Discrimination significance: 4.23588051077 sigma\n",
      "   Sample 3  - Discrimination significance: 4.33937960152 sigma\n",
      "   Sample 4  - Discrimination significance: 3.8106199365 sigma\n",
      "   Sample 5  - Discrimination significance: 4.36428936213 sigma\n",
      "   Sample 6  - Discrimination significance: 3.97341573727 sigma\n",
      "   Sample 7  - Discrimination significance: 3.14173160193 sigma\n",
      "   Sample 8  - Discrimination significance: 4.15026385167 sigma\n",
      "   Sample 9  - Discrimination significance: 4.56566260652 sigma\n",
      "   Sample 10  - Discrimination significance: 3.58583014924 sigma\n",
      " Median significance: 4.19307218122\n"
     ]
    }
   ],
   "source": [
    "run CalcDisc-vs-Params.py A 50.0 74"
   ]
  },
  {
   "cell_type": "code",
   "execution_count": null,
   "metadata": {
    "collapsed": true
   },
   "outputs": [],
   "source": []
  }
 ],
 "metadata": {
  "kernelspec": {
   "display_name": "Python 2",
   "language": "python",
   "name": "python2"
  },
  "language_info": {
   "codemirror_mode": {
    "name": "ipython",
    "version": 2
   },
   "file_extension": ".py",
   "mimetype": "text/x-python",
   "name": "python",
   "nbconvert_exporter": "python",
   "pygments_lexer": "ipython2",
   "version": "2.7.12"
  }
 },
 "nbformat": 4,
 "nbformat_minor": 2
}
